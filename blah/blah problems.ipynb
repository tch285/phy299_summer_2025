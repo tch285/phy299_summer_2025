{
 "cells": [
  {
   "cell_type": "markdown",
   "metadata": {},
   "source": [
    "# blah problems"
   ],
   "id": "0"
  },
  {
   "cell_type": "markdown",
   "metadata": {},
   "source": [
    "## Question 1: Exploring Chaos with the Logistic Map"
   ],
   "id": "1"
  },
  {
   "cell_type": "markdown",
   "metadata": {},
   "source": [
    "### Learning objectives\n",
    "In this question you will:\n",
    "\n",
    "- Understand and analyze the behavior of the logistic map across different system parameters\n",
    "- explore chaos theory and sensitivity to initial conditions\n"
   ],
   "id": "2"
  },
  {
   "cell_type": "markdown",
   "metadata": {},
   "source": [
    "### 1a. "
   ],
   "id": "3"
  },
  {
   "cell_type": "markdown",
   "metadata": {
    "flags": [
     "problems",
     "solutions"
    ]
   },
   "source": [
    "(Adapted from Taylor, Classical Mechanics (2005) Ch. 12.9)"
   ],
   "id": "4"
  },
  {
   "cell_type": "markdown",
   "metadata": {
    "flags": [
     "problems",
     "solutions"
    ]
   },
   "source": [
    "\n",
    "\n",
    "#### Overview of the Logistic Map\n",
    "The Logistic Map is a classic example in the study of dynamical systems and chaos theory. It represents a simple model of population growth and is mathematically described by a nonlinear recurrence relation. The map is defined as:\n",
    "\n",
    "$ x_{n+1} = r \\cdot x_n \\cdot (1 - x_n) $\n",
    "\n",
    "where:\n",
    "- $ x_n $ is the value of the variable (e.g., population proportion) at the $ n $-th step,\n",
    "- $ r $ is a parameter representing the rate of growth.\n",
    "\n",
    "This map, despite its simplicity, can exhibit a rich variety of behaviors, including stable fixed points, periodic orbits, and chaotic behavior, depending on the value of $r$.\n",
    "\n",
    "#### Significance in Chaos Theory\n",
    "In chaos theory, the Logistic Map is often used to demonstrate how complex, chaotic behavior can arise from very simple nonlinear dynamical equations. It is a paradigmatic example of how deterministic systems can produce random-like, unpredictable behaviors.\n",
    "\n",
    "#### Exploring Periodicity and Chaos\n",
    "One of the fascinating aspects of the Logistic Map is its ability to illustrate the transition from simplicity to complexity. As the parameter $r$ changes, the system can shift from steady-state behavior to periodic and then to chaotic dynamics. This transition is a central theme in the study of nonlinear systems and chaos.\n",
    "\n",
    "#### Poincar\u00e9 Sections and the Search for Order\n",
    "In the context of the Logistic Map, Poincar\u00e9 sections can be a useful tool to understand the underlying structure of chaotic systems. By plotting the points of intersection of a periodic orbit with a certain plane (the Poincar\u00e9 section), one can visualize the repetitive nature of the system's trajectory, uncovering order within apparent randomness.\n",
    "\n",
    "#### Objective of the Exploration\n",
    "The goal of our exploration is to quantitatively and visually understand how changes in the parameter $r$ affect the behavior of the Logistic Map. We will use Python to simulate and plot the map's trajectories for various values of $r$, observing the transition from order to chaos.\n"
   ],
   "id": "5"
  },
  {
   "cell_type": "markdown",
   "metadata": {
    "flags": [
     "problems",
     "solutions"
    ]
   },
   "source": [
    "We'll start by defining a Python function, `recurrence_equation`, which takes the current value \n",
    "$x_n$\n",
    "  and the parameter \n",
    "$r$ as inputs and returns the next value \n",
    "$x_{n+1}$.\n",
    "\n",
    "**Setting Parameters and Initial Conditions**\n",
    "**Parameter** \n",
    "$r$**:** The growth rate parameter \n",
    "$r$ significantly influences the map's behavior. We will initially set \n",
    "$r$ to a specific value (e.g., 0.8) to observe basic behavior.\n",
    "**Initial Conditions:** The initial value of \n",
    "$x$, denoted as \n",
    "$x_0$, determines the starting point of our sequence. We will explore two different initial conditions, such as \n",
    "$x_0 = 0.1$\n",
    " and \n",
    "$x_0=0.5$, to observe how the starting point affects the system's evolution.\n",
    "\n",
    "**Generating and Visualizing Sequences**\n",
    "Using a for-loop, we will iteratively apply the logistic map function to generate a sequence of values for a defined number of iterations (e.g., `n_max = 12`). This process will be repeated for each set of initial conditions. The resulting sequences will be visualized using `matplotlib.pyplot` to create a plot that shows the evolution of values over iterations. This visualization will help in understanding how the system evolves over time for different initial conditions."
   ],
   "id": "6"
  },
  {
   "cell_type": "markdown",
   "metadata": {},
   "source": [
    "Write your answer here"
   ],
   "id": "7"
  },
  {
   "cell_type": "markdown",
   "metadata": {},
   "source": [
    "### 1b. "
   ],
   "id": "8"
  },
  {
   "cell_type": "markdown",
   "metadata": {
    "flags": [
     "problems",
     "solutions"
    ]
   },
   "source": [
    "**Overview of the Plotting Exercise**\n",
    "The logistic function \n",
    "$\n",
    "x_{n+1} = r\\cdot x_n \\cdot (1\u2212x_n)$ and the line \n",
    "$y=x$ will be plotted on the same graph. The intersection points between these two lines represent the fixed points of the system. Observing how these intersection points change as we vary \n",
    "$r$ provides insights into the system's stability and behavior."
   ],
   "id": "9"
  },
  {
   "cell_type": "markdown",
   "metadata": {},
   "source": [
    "Write your answer here"
   ],
   "id": "10"
  },
  {
   "cell_type": "markdown",
   "metadata": {},
   "source": [
    "### 1c. "
   ],
   "id": "11"
  },
  {
   "cell_type": "markdown",
   "metadata": {
    "flags": [
     "problems",
     "solutions"
    ]
   },
   "source": [
    "\n",
    "\n",
    "**Understanding the Plot**\n",
    "- The line $y = x$ represents the identity function.\n",
    "- The curve of the logistic function $y = r x (1 - x)$ will vary depending on the value of $r$.\n",
    "- The intersection points between these two lines indicate the fixed points of the logistic map. A fixed point is where $x_{n+1} = x_n$, meaning the system remains at the same point after each iteration.\n",
    "- The stability of these fixed points can be further analyzed by considering the slope of the logistic function at these points.\n",
    "\n",
    "**Analyzing Different Values of $r$**\n",
    "By changing the value of $r$ in the code and observing how the plot changes, we can explore different behaviors of the logistic map:\n",
    "- For low values of $r$, the system might converge to a single fixed point.\n",
    "- As $r$ increases, the system might start to exhibit periodic behavior, with the logistic function intersecting the identity line at multiple points.\n",
    "- At higher values of $r$, the system can become chaotic, with no clear fixed points or periodicity.\n",
    "\n"
   ],
   "id": "12"
  },
  {
   "cell_type": "markdown",
   "metadata": {
    "flags": [
     "problems",
     "solutions"
    ]
   },
   "source": [
    "**Instructions for Exploration**\n",
    "\n",
    "\n",
    "We can systematically change the value of \n",
    "$r$ in our Python code. Suggested values to explore include \n",
    "$\n",
    "r=1.5,2.5,3.5,3.7$ and beyond. Each value of \n",
    "$r$ represents a different dynamical regime.\n",
    "\n",
    "\n",
    "For each value of \n",
    "$r$, observe the intersection points between the logistic function and the identity line, and note the behavior (e.g., convergence to a fixed point, periodic behavior, chaotic behavior).\n",
    "Analysis: Try to relate the observed behavior to the value of \n",
    "$r$. Notice how with increasing \n",
    "$r$, the system transitions from order to chaos.\n",
    "\n",
    "Modify your existing Python code to easily change the value of \n",
    "$r$ and plot the corresponding logistic function."
   ],
   "id": "13"
  },
  {
   "cell_type": "markdown",
   "metadata": {},
   "source": [
    "Write your answer here"
   ],
   "id": "14"
  },
  {
   "cell_type": "markdown",
   "metadata": {},
   "source": [
    "### 1d. "
   ],
   "id": "15"
  },
  {
   "cell_type": "markdown",
   "metadata": {
    "flags": [
     "problems",
     "solutions"
    ]
   },
   "source": [
    "**Using Symbolic Computation for Stability Analysis**\n",
    "\n",
    "Symbolic Mathematics: \n",
    "We can use the `sympy` library, a Python library for symbolic mathematics, to perform algebraic manipulations and calculus operations required for our analysis.\n",
    "\n",
    "Defining the Logistic Function: \n",
    "The logistic map function \n",
    "$\n",
    "f(x)=rx(1\u2212x)$ will be defined symbolically.\n",
    "\n",
    "Fixed Point Calculation: \n",
    "We  solve the equation \n",
    "$\n",
    "f(x)=x$ to find the fixed points of the logistic map. Fixed points are values where the system remains constant over iterations."
   ],
   "id": "16"
  },
  {
   "cell_type": "markdown",
   "metadata": {},
   "source": [
    "Write your answer here"
   ],
   "id": "17"
  },
  {
   "cell_type": "markdown",
   "metadata": {},
   "source": [
    "### 1e. "
   ],
   "id": "18"
  },
  {
   "cell_type": "markdown",
   "metadata": {
    "flags": [
     "problems",
     "solutions"
    ]
   },
   "source": [
    "Let's extend the stability analysis of the logistic map to various values of the parameter \n",
    "$r$. The behavior of the logistic map varies significantly with changes in \n",
    "$r$, transitioning from predictable (order) to unpredictable (chaos). Analyzing this transition provides valuable insights into the nature of dynamical systems.\n",
    "\n",
    "**Analyzing Stability Across Different \n",
    "$r$-values\n",
    "Objective:**\n",
    "\n",
    "To understand how the stability of fixed points in the logistic map changes as the parameter \n",
    "$r$ is varied.\n",
    "Approach: We will iteratively analyze the stability for a range of \n",
    "$r$-values, focusing on the interval where the logistic map exhibits interesting dynamical behavior (typically \n",
    "$r$ between 1 and 4)."
   ],
   "id": "19"
  },
  {
   "cell_type": "markdown",
   "metadata": {},
   "source": [
    "Write your answer here"
   ],
   "id": "20"
  },
  {
   "cell_type": "markdown",
   "metadata": {},
   "source": [
    "### 1f. "
   ],
   "id": "21"
  },
  {
   "cell_type": "markdown",
   "metadata": {
    "flags": [
     "problems",
     "solutions"
    ]
   },
   "source": [
    "In this final section, we delve into the chaotic regime of the logistic map, focusing on high values of the parameter \n",
    "$r$. When \n",
    "$r$ exceeds a certain threshold, the logistic map exhibits chaotic behavior, characterized by extreme sensitivity to initial conditions and an apparent randomness in its long-term behavior.\n",
    "\n",
    "\n",
    "**Understanding Chaos:** To explore and understand the nature of chaos in the logistic map, particularly for high values of \n",
    "$r$.\n",
    "\n",
    "**Sensitivity to Initial Conditions:** To observe how slight changes in initial conditions can lead to dramatically different outcomes in a chaotic system.\n",
    "\n",
    "**Visualizing Chaos:** To use plots and visualizations to illustrate the unpredictable and complex behavior of the logistic map in the chaotic regime.\n",
    "\n",
    "Modify your existing code to focus on high \n",
    "$r$-values and visualize how slight changes in initial conditions lead to different trajectories."
   ],
   "id": "22"
  },
  {
   "cell_type": "markdown",
   "metadata": {},
   "source": [
    "Write your answer here"
   ],
   "id": "23"
  },
  {
   "cell_type": "markdown",
   "metadata": {},
   "source": [
    "### 1g. "
   ],
   "id": "24"
  },
  {
   "cell_type": "markdown",
   "metadata": {
    "flags": [
     "problems",
     "solutions"
    ]
   },
   "source": [
    "### Understanding the Results\n",
    "\n",
    "**Divergence of Trajectories:**\n",
    "Initially similar sequences will diverge rapidly, illustrating the unpredictability inherent in chaotic systems.\n",
    "\n",
    "**Complexity from Simplicity:**\n",
    "This exercise highlights how complex and seemingly random behavior can emerge from a simple deterministic system.\n",
    "\n",
    "**Implications:** The insights gained here are relevant to various fields, from meteorology to economics, where understanding and predicting chaotic systems is crucial.\n"
   ],
   "id": "25"
  },
  {
   "cell_type": "markdown",
   "metadata": {},
   "source": [
    "Write your answer here"
   ],
   "id": "26"
  }
 ],
 "metadata": {
  "kernelspec": {
   "display_name": "Python [default]",
   "language": "python",
   "name": "python3"
  },
  "language_info": {
   "codemirror_mode": {
    "name": "ipython",
    "version": 3
   },
   "file_extension": ".py",
   "mimetype": "text/x-python",
   "name": "python",
   "nbconvert_exporter": "python",
   "pygments_lexer": "ipython3",
   "version": "3.6.8"
  }
 },
 "nbformat": 4,
 "nbformat_minor": 5
}