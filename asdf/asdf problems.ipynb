{
 "cells": [
  {
   "cell_type": "markdown",
   "metadata": {},
   "source": [
    "# asdf problems"
   ],
   "id": "0"
  },
  {
   "cell_type": "markdown",
   "metadata": {},
   "source": [
    "## Question 1: Example Notebook"
   ],
   "id": "1"
  },
  {
   "cell_type": "markdown",
   "metadata": {},
   "source": [
    "### Learning objectives\n",
    "In this question you will:\n",
    "\n",
    "- Demonstrate the basic functionality of Jupyter Notebooks for compuational problems\n"
   ],
   "id": "2"
  },
  {
   "cell_type": "markdown",
   "metadata": {
    "flags": [
     "problems",
     "solutions"
    ]
   },
   "source": [
    "The  purpose of the notebook is to provide students with an opportunity to verify that they have access to the Berkeley Data Hub and that they can answer basic questions using Markdown cells and python scripts.  If you are unfamiliar with python, or would like a refresher, please take a look at:\n",
    "\n",
    "https://datahub.berkeley.edu/hub/user-redirect/git-pull?repo=https%3A%2F%2Fgithub.com%2Fberkeley-physics%2FPython-Tutorials&branch=master\n"
   ],
   "id": "3"
  },
  {
   "cell_type": "markdown",
   "metadata": {},
   "source": [
    "### 1a. "
   ],
   "id": "4"
  },
  {
   "cell_type": "markdown",
   "metadata": {
    "flags": [
     "problems",
     "solutions"
    ]
   },
   "source": [
    "Markdown can be used to put text, equations and tables into a Jupyter Notebook.  A basic introduction to Markdown can be found at:\n",
    "\n",
    "https://jupyter-notebook.readthedocs.io/en/stable/examples/Notebook/Working%20With%20Markdown%20Cells.html\n",
    "\n",
    "Verify that you can fill a Markdown cell correctly by reproducing the text below:\n"
   ],
   "id": "5"
  },
  {
   "cell_type": "markdown",
   "metadata": {
    "flags": [
     "problems",
     "solutions"
    ]
   },
   "source": [
    "<img src=\"sampleMarkdown-1.png\" alt=\"Drawing\" style=\"width:800px;\"/>"
   ],
   "id": "6"
  },
  {
   "cell_type": "markdown",
   "metadata": {},
   "source": [
    "Write your answer here"
   ],
   "id": "7"
  },
  {
   "cell_type": "markdown",
   "metadata": {},
   "source": [
    "### 1b. "
   ],
   "id": "8"
  },
  {
   "cell_type": "markdown",
   "metadata": {
    "flags": [
     "problems",
     "solutions"
    ]
   },
   "source": [
    "Our coding will be done in python.  Start by executing the cell below:"
   ],
   "id": "9"
  },
  {
   "cell_type": "code",
   "execution_count": 16,
   "metadata": {
    "flags": [
     "problems",
     "solutions"
    ]
   },
   "outputs": [],
   "source": [
    "a=10\n",
    "b=20\n",
    "\n",
    "a_list = [1,2,3,4,5]\n",
    "b_list = [2,4,6,8,10]\n",
    "\n",
    "import numpy as np\n",
    "a_array = np.array(a_list)\n",
    "b_array = np.array(b_list)"
   ],
   "id": "10"
  },
  {
   "cell_type": "markdown",
   "metadata": {
    "flags": [
     "problems",
     "solutions"
    ]
   },
   "source": [
    "Verify that you can use python to do simple arithmetic and to do math using numpy arrays by calculating:\n",
    "\n",
    "* $a+b$\n",
    "* The sum of the third out of five elements of a\\_list and b\\_list\n",
    "* $(a\\_array)^2+(b\\_array)^2$ (the answer should be given as an array of 5 numbers)"
   ],
   "id": "11"
  },
  {
   "cell_type": "code",
   "metadata": {},
   "source": [
    "#Write your answer here"
   ],
   "outputs": [],
   "execution_count": null,
   "id": "12"
  },
  {
   "cell_type": "markdown",
   "metadata": {},
   "source": [
    "### 1c. "
   ],
   "id": "13"
  },
  {
   "cell_type": "markdown",
   "metadata": {
    "flags": [
     "problems",
     "solutions"
    ]
   },
   "source": [
    "One useful package to make plots is matplotlib.  The code fragment below loads the plotting library and sets up a numpy array of 101 equally spaced numbers with values between 0 and 5"
   ],
   "id": "14"
  },
  {
   "cell_type": "code",
   "execution_count": 19,
   "metadata": {
    "flags": [
     "problems",
     "solutions"
    ]
   },
   "outputs": [],
   "source": [
    "import matplotlib.pyplot as plt\n",
    "x_array = np.linspace(0,5,101)"
   ],
   "id": "15"
  },
  {
   "cell_type": "markdown",
   "metadata": {
    "flags": [
     "problems",
     "solutions"
    ]
   },
   "source": [
    "Make a scatter plot where where the x-axis values are x_array and where the y-axis values are $y=e^{-x/2}$.  Make sure to put labels on the x and y axes"
   ],
   "id": "16"
  },
  {
   "cell_type": "code",
   "metadata": {},
   "source": [
    "#Write your answer here"
   ],
   "outputs": [],
   "execution_count": null,
   "id": "17"
  }
 ],
 "metadata": {
  "kernelspec": {
   "display_name": "Python [default]",
   "language": "python",
   "name": "python3"
  },
  "language_info": {
   "codemirror_mode": {
    "name": "ipython",
    "version": 3
   },
   "file_extension": ".py",
   "mimetype": "text/x-python",
   "name": "python",
   "nbconvert_exporter": "python",
   "pygments_lexer": "ipython3",
   "version": "3.6.8"
  }
 },
 "nbformat": 4,
 "nbformat_minor": 5
}